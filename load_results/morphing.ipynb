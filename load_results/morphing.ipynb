{
 "cells": [
  {
   "cell_type": "code",
   "execution_count": 6,
   "metadata": {},
   "outputs": [],
   "source": [
    "import os, yaml, matplotlib.pyplot as plt, numpy as np, collections, torch, PIL\n",
    "suffixs = [250, 500, 1000, 1500, 2000]"
   ]
  },
  {
   "cell_type": "code",
   "execution_count": 7,
   "metadata": {},
   "outputs": [],
   "source": [
    "main_dir_prefix = '../results_save/cat[]thinspiral_'\n",
    "loss, support, mass, stds, means, final_loss = {}, {}, {}, {}, {}, collections.defaultdict(list)\n",
    "for suffix in suffixs:\n",
    "    main_dir = main_dir_prefix + str(suffix)\n",
    "    loss[suffix], support[suffix], mass[suffix] = collections.defaultdict(list), {}, {}\n",
    "    for sub_dir in os.listdir(main_dir):\n",
    "        method_name = sub_dir[:sub_dir.find('_')]\n",
    "        if 'S[0]' in sub_dir:\n",
    "            support[suffix][method_name] = np.load(os.path.join(main_dir, sub_dir, 'support.npy'))\n",
    "            mass[suffix][method_name] = np.load(os.path.join(main_dir, sub_dir, 'mass.npy'))\n",
    "        _value = np.load(os.path.join(main_dir, sub_dir, 'w2.npy'))\n",
    "        loss[suffix][method_name].append(_value)\n",
    "for suffix in suffixs:\n",
    "    stds[suffix], means[suffix] = {}, {}\n",
    "    for method_name in loss[suffix].keys():\n",
    "        loss[suffix][method_name] = np.array(loss[suffix][method_name])\n",
    "        means[suffix][method_name] = np.mean(loss[suffix][method_name], axis = 0)\n",
    "        stds[suffix][method_name] = np.std(loss[suffix][method_name], axis = 0)\n",
    "        final_loss[method_name].append(means[suffix][method_name][-1])"
   ]
  },
  {
   "cell_type": "code",
   "execution_count": 8,
   "metadata": {},
   "outputs": [],
   "source": [
    "save_dir = '../figures/morphing'\n",
    "settings = yaml.load(open('../load_results/plot_settings.yaml').read(), Loader = yaml.FullLoader)\n",
    "if not os.path.exists(save_dir):\n",
    "    os.makedirs(save_dir)\n",
    "with open(os.path.join(save_dir, 'sketching_iter.txt'), mode = 'w') as f:\n",
    "    for name in settings['order']:\n",
    "        if name not in final_loss.keys(): continue\n",
    "        values = final_loss[name]\n",
    "        f.write('{} & \\t'.format(settings['label'][name]) + '{:.3e} & {:.3e} & {:.3e} & {:.3e} & {:.3e}'.format(*values) + r'\\\\' + '\\n')"
   ]
  },
  {
   "cell_type": "code",
   "execution_count": 9,
   "metadata": {},
   "outputs": [],
   "source": [
    "# plot_result_iter_seperate\n",
    "for num, (y_min1, y_max1), (y_min2, y_max2) in zip(suffixs, [(2.5e-2, 0.15), (1.5e-2, 0.1), (1.0e-2, 0.1), (1.0e-2, 0.1), (1.0e-2, 0.1)], [(1e-2, 4e-2), (6e-3, 4e-2), (4e-3, 4e-2), (4e-3, 4e-2), (4e-3, 4e-2)]):\n",
    "    plt.figure(figsize=(7.2 * 2, 4.0 * 1))\n",
    "    plt.subplot(121)\n",
    "    for method_name in ['MMDF', 'MMDFCA', 'MMDFDK']:\n",
    "        if method_name not in final_loss.keys(): continue\n",
    "        x_axis = np.linspace(0, 15000, len(means[num][method_name]))\n",
    "        plt.errorbar(\n",
    "            x_axis, means[num][method_name], yerr = stds[num][method_name], capsize = 3, \n",
    "            color = settings['color'][method_name], \n",
    "            linestyle = settings['linestyle'][method_name], \n",
    "            label = settings['label'][method_name], \n",
    "            alpha = 1.0, linewidth = 1.5\n",
    "        )\n",
    "    plt.ylim(y_min1, y_max1)\n",
    "    plt.yscale('log')\n",
    "    plt.xscale('linear')\n",
    "    plt.xlabel('Iterations, M = {}'.format(num), {'size': 14})\n",
    "    plt.ylabel('2-Wasserstein Distance', {'size': 14})\n",
    "    plt.tick_params(labelsize = 12)\n",
    "    plt.legend(fontsize = 14)\n",
    "    plt.subplot(122)\n",
    "    for method_name in ['SD', 'SDCA', 'SDDK']:\n",
    "        if method_name not in final_loss.keys(): continue\n",
    "        x_axis = np.linspace(0, 300, len(means[num][method_name]))\n",
    "        plt.errorbar(\n",
    "            x_axis, means[num][method_name], yerr = stds[num][method_name], capsize = 3, \n",
    "            color = settings['color'][method_name], \n",
    "            linestyle = settings['linestyle'][method_name], \n",
    "            label = settings['label'][method_name], \n",
    "            alpha = 1.0, linewidth = 1.5\n",
    "        )\n",
    "    plt.ylim(y_min2, y_max2)\n",
    "    plt.yscale('log')\n",
    "    plt.xscale('linear')\n",
    "    plt.xlabel('Iterations, M = {}'.format(num), {'size': 14})\n",
    "    plt.ylabel('2-Wasserstein Distance', {'size': 14})\n",
    "    plt.tick_params(labelsize = 12)\n",
    "    plt.legend(fontsize = 14)\n",
    "    plt.savefig(os.path.join(save_dir, 'sketching_%s_iter.pdf'%num), dpi = 120, bbox_inches = 'tight')\n",
    "    plt.close()"
   ]
  },
  {
   "cell_type": "markdown",
   "metadata": {},
   "source": [
    "### particles"
   ]
  },
  {
   "cell_type": "code",
   "execution_count": 10,
   "metadata": {},
   "outputs": [],
   "source": [
    "particle_size = 5\n",
    "for num in suffixs:\n",
    "    _save_dir = os.path.join(save_dir, 'num%d'%num)\n",
    "    if not os.path.exists(_save_dir):\n",
    "        os.makedirs(_save_dir)\n",
    "    for method_name in support[num].keys():\n",
    "        _support = support[num][method_name][-1]\n",
    "        _mass = mass[num][method_name][-1]\n",
    "        _mass = (_mass / _mass.sum()) * len(_mass)\n",
    "        size_list = _mass * particle_size\n",
    "        fig = plt.figure(figsize = (4.0, 4.0))\n",
    "        plt.scatter(_support[:, 0], _support[:, 1], alpha = 0.5, s = size_list, c = 'r', label = settings['label'][method_name])\n",
    "        plt.legend(fontsize = 16, loc = 3, bbox_to_anchor=(-0.06, -0.06))\n",
    "        plt.xlim((-0.06, 1.0))\n",
    "        plt.ylim((-0.06, 1.0))\n",
    "        plt.axis('off')\n",
    "        plt.savefig(os.path.join(_save_dir, '%s.pdf'%(settings['label'][method_name])), dpi = 120, bbox_inches = 'tight')\n",
    "        plt.close()"
   ]
  },
  {
   "cell_type": "code",
   "execution_count": null,
   "metadata": {},
   "outputs": [],
   "source": []
  }
 ],
 "metadata": {
  "kernelspec": {
   "display_name": "py39",
   "language": "python",
   "name": "python3"
  },
  "language_info": {
   "codemirror_mode": {
    "name": "ipython",
    "version": 3
   },
   "file_extension": ".py",
   "mimetype": "text/x-python",
   "name": "python",
   "nbconvert_exporter": "python",
   "pygments_lexer": "ipython3",
   "version": "3.9.13"
  },
  "orig_nbformat": 4,
  "vscode": {
   "interpreter": {
    "hash": "3f4af79fd480172de9edeff3bc3266bfd9e7a1276f3f0b8e3f317e1bc1b91c24"
   }
  }
 },
 "nbformat": 4,
 "nbformat_minor": 2
}
