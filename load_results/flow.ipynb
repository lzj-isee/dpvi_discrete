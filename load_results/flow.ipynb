{
 "cells": [
  {
   "cell_type": "code",
   "execution_count": 4,
   "metadata": {},
   "outputs": [],
   "source": [
    "import os, yaml, matplotlib.pyplot as plt, numpy as np, collections, torch, PIL"
   ]
  },
  {
   "cell_type": "code",
   "execution_count": 5,
   "metadata": {},
   "outputs": [],
   "source": [
    "main_result_dir = '../results_save/flow'\n",
    "loss = {}\n",
    "for result_dir in os.listdir(main_result_dir):\n",
    "    method_name = result_dir[:result_dir.find('_')]\n",
    "    _value = np.load(os.path.join(main_result_dir, result_dir, 'sinkhorn_div.npy'))\n",
    "    loss[method_name] = _value\n",
    "settings = {\n",
    "    'label': {\n",
    "        'SD': 'SD', \n",
    "        'SDDK': 'D-SD-DK'\n",
    "    }, \n",
    "    'order': ['SD', 'SDDK'], \n",
    "    'color': {\n",
    "        'SD': 'black', \n",
    "        'SDDK': 'red'\n",
    "    }, \n",
    "    'linestyle': {\n",
    "        'SD': '-', \n",
    "        'SDDK': '-'\n",
    "    }\n",
    "}"
   ]
  },
  {
   "cell_type": "code",
   "execution_count": 6,
   "metadata": {},
   "outputs": [],
   "source": [
    "save_dir = '../figures/flow'\n",
    "if not os.path.exists(save_dir): os.makedirs(save_dir)\n",
    "plt.figure(figsize=(7.2 * 1, 4.0 * 1))\n",
    "for method_name in ['SD', 'SDDK']:\n",
    "    if method_name not in loss.keys(): continue\n",
    "    x_axis = np.linspace(0, 100, len(loss[method_name]))\n",
    "    plt.plot(\n",
    "        x_axis, loss[method_name], color = settings['color'][method_name], \n",
    "        linestyle = settings['linestyle'][method_name], \n",
    "        label = settings['label'][method_name], \n",
    "        alpha = 1.0, linewidth = 1.5\n",
    "    )\n",
    "plt.ylim(0.8, 2)\n",
    "plt.yscale('log')\n",
    "plt.xscale('linear')\n",
    "plt.xlabel('Iterations', {'size': 14})\n",
    "plt.ylabel('Sinkhorn Divergence', {'size': 14})\n",
    "plt.tick_params(labelsize = 12)\n",
    "plt.legend(fontsize = 14)\n",
    "plt.savefig(os.path.join(save_dir, 'flow_iter.pdf'), dpi = 120, bbox_inches = 'tight')\n",
    "plt.close()"
   ]
  },
  {
   "cell_type": "code",
   "execution_count": null,
   "metadata": {},
   "outputs": [],
   "source": []
  }
 ],
 "metadata": {
  "kernelspec": {
   "display_name": "py39",
   "language": "python",
   "name": "python3"
  },
  "language_info": {
   "codemirror_mode": {
    "name": "ipython",
    "version": 3
   },
   "file_extension": ".py",
   "mimetype": "text/x-python",
   "name": "python",
   "nbconvert_exporter": "python",
   "pygments_lexer": "ipython3",
   "version": "3.9.13"
  },
  "orig_nbformat": 4,
  "vscode": {
   "interpreter": {
    "hash": "3f4af79fd480172de9edeff3bc3266bfd9e7a1276f3f0b8e3f317e1bc1b91c24"
   }
  }
 },
 "nbformat": 4,
 "nbformat_minor": 2
}
