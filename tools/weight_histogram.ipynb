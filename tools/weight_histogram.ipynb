{
 "cells": [
  {
   "cell_type": "code",
   "execution_count": 59,
   "metadata": {},
   "outputs": [],
   "source": [
    "import numpy as np, matplotlib.pyplot as plt\n",
    "bins = 100"
   ]
  },
  {
   "cell_type": "code",
   "execution_count": 60,
   "metadata": {},
   "outputs": [],
   "source": [
    "dir_mmd = '../results_save/sketching_time/MMDF_nei_imq_lr[3.0e-02]be[0.0e+00]bw[1.0e-01]S[0]'\n",
    "dir_sd = '../results_save/sketching_time/SD_lr[1.0e+00]bl[1.0e-02]S[0]'\n",
    "mass_mmd = np.load(os.path.join(dir_mmd, 'mass.npy'))[-1]\n",
    "mass_mmd = mass_mmd * len(mass_mmd)\n",
    "mass_sd = np.load(os.path.join(dir_sd, 'mass.npy'))[-1]\n",
    "mass_sd = mass_sd * len(mass_sd)\n",
    "\n",
    "dir_mmdca = '../results_save/sketching_time/MMDFCA_nei_imq_lr[3.0e-02]al[5.0e+00]be[0.0e+00]bw[1.0e-01]S[0]'\n",
    "dir_sdca = '../results_save/sketching_time/SDCA_lr[1.0e+00]al[1.0e+01]bl[1.0e-02]S[0]'\n",
    "mass_mmdca = np.load(os.path.join(dir_mmdca, 'mass.npy'))[-1]\n",
    "mass_mmdca = mass_mmdca * len(mass_mmdca)\n",
    "mass_sdca = np.load(os.path.join(dir_sdca, 'mass.npy'))[-1]\n",
    "mass_sdca = mass_sdca * len(mass_sdca)"
   ]
  },
  {
   "cell_type": "code",
   "execution_count": 61,
   "metadata": {},
   "outputs": [],
   "source": [
    "plt.figure(figsize = (10.8, 6.4))\n",
    "plt.subplot(221)\n",
    "plt.hist(mass_mmd, bins = bins, label = 'MMDF & D-MMDF-DK')\n",
    "plt.ylabel('Number of Particles')\n",
    "plt.xlabel('Mass')\n",
    "plt.legend()\n",
    "plt.xlim((0.2, 1.2))\n",
    "plt.subplot(222)\n",
    "plt.hist(mass_mmdca, bins = bins, label = 'D-MMDF-CA')\n",
    "plt.ylabel('Number of Particles')\n",
    "plt.xlabel('Mass')\n",
    "plt.legend()\n",
    "plt.subplot(223)\n",
    "plt.hist(mass_sd, bins = bins, label = 'SD & D-SD-DK')\n",
    "plt.ylabel('Number of Particles')\n",
    "plt.xlabel('Mass')\n",
    "plt.legend()\n",
    "plt.xlim((0.2, 1.2))\n",
    "plt.subplot(224)\n",
    "plt.hist(mass_sdca, bins = bins, label = 'D-SD-CA')\n",
    "plt.ylabel('Number of Particles')\n",
    "plt.xlabel('Mass')\n",
    "plt.legend()\n",
    "plt.savefig(os.path.join('../figures/sketching', 'histogram.pdf'), dpi = 120, bbox_inches = 'tight')\n",
    "plt.close()"
   ]
  },
  {
   "cell_type": "code",
   "execution_count": null,
   "metadata": {},
   "outputs": [],
   "source": []
  }
 ],
 "metadata": {
  "kernelspec": {
   "display_name": "py39",
   "language": "python",
   "name": "python3"
  },
  "language_info": {
   "codemirror_mode": {
    "name": "ipython",
    "version": 3
   },
   "file_extension": ".py",
   "mimetype": "text/x-python",
   "name": "python",
   "nbconvert_exporter": "python",
   "pygments_lexer": "ipython3",
   "version": "3.9.13"
  },
  "orig_nbformat": 4,
  "vscode": {
   "interpreter": {
    "hash": "3f4af79fd480172de9edeff3bc3266bfd9e7a1276f3f0b8e3f317e1bc1b91c24"
   }
  }
 },
 "nbformat": 4,
 "nbformat_minor": 2
}
